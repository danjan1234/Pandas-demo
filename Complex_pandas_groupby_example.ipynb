{
 "cells": [
  {
   "cell_type": "markdown",
   "metadata": {},
   "source": [
    "# Complex pandas groupby demonstration \n",
    "This notebook provides a complex example of implementing pandas groupby method. The detailed procedure is the following. The original table contains the measured resistance versus field data of many devices. This table is first transformed using groupby method based on *id_cols*. Note the elements of the transformed DataFrame now contain numpy arrays. A simple root_finder function is applied on each group item, which helps creating a new DataFrame that reports the indices of the found roots in each group. The new DataFrame is then concatenated with the transformed one, making a 3rd DataFrame. An indexing function is applied on the 3rd DataFrame and returns the values of the found roots.\n",
    "\n",
    "Unfortunately, such complex manipulation is not always guaranteed to work. I think it has to do with the fact that the intermediate DataFrames contain numpy array elements, which is difficult to deal with when applying functions. An workaround solution is to loop through groups."
   ]
  },
  {
   "cell_type": "code",
   "execution_count": 2,
   "metadata": {},
   "outputs": [
    {
     "name": "stdout",
     "output_type": "stream",
     "text": [
      "Once deleted, variables cannot be recovered. Proceed (y/[n])? y\n"
     ]
    }
   ],
   "source": [
    "%reset"
   ]
  },
  {
   "cell_type": "code",
   "execution_count": 3,
   "metadata": {
    "collapsed": true
   },
   "outputs": [],
   "source": [
    "import matplotlib.pyplot as plt\n",
    "import numpy as np\n",
    "import pandas as pd\n",
    "%matplotlib inline"
   ]
  },
  {
   "cell_type": "code",
   "execution_count": 4,
   "metadata": {
    "collapsed": true
   },
   "outputs": [],
   "source": [
    "# Define parameters\n",
    "repeat = 5   # Total number of repeats\n",
    "npts = 20    # Number of points per repeat\n",
    "id_cols = ['device', 'channel']"
   ]
  },
  {
   "cell_type": "code",
   "execution_count": 5,
   "metadata": {
    "collapsed": true
   },
   "outputs": [],
   "source": [
    "# Generate data for demonstration purpose\n",
    "field = [np.linspace(-10, 10, npts)] * repeat\n",
    "resistance = [np.sin((x - np.random.randint(3)) * 2 * np.random.rand()) for x in field]\n",
    "field = np.concatenate(field)\n",
    "resistance = np.concatenate(resistance)\n",
    "device = [\"device {}\".format(i) for i in range(repeat) for j in range(npts)]\n",
    "tmp = [np.random.randint(100) for i in range(repeat)]\n",
    "channel = np.array([[i] * npts for i in tmp]).ravel()\n",
    "\n",
    "df = pd.DataFrame({'device': device, 'channel': channel, 'field': field, 'resistance': resistance})"
   ]
  },
  {
   "cell_type": "code",
   "execution_count": 6,
   "metadata": {},
   "outputs": [
    {
     "data": {
      "text/plain": [
       "<matplotlib.axes._subplots.AxesSubplot at 0x9e67128>"
      ]
     },
     "execution_count": 6,
     "metadata": {},
     "output_type": "execute_result"
    },
    {
     "data": {
      "image/png": "[encoded data removed]",
      "text/plain": [
       "<matplotlib.figure.Figure at 0x9e3f668>"
      ]
     },
     "metadata": {},
     "output_type": "display_data"
    }
   ],
   "source": [
    "# Show the data of a randomly selected device\n",
    "sum_df = df.groupby(id_cols).size()    # Summary by id_cols\n",
    "all_ids = sum_df.index.values\n",
    "random_id = all_ids[np.random.randint(len(all_ids))]\n",
    "\n",
    "single_df = df[(df[id_cols[0]] == random_id[0]) & (df[id_cols[1]] == random_id[1])]\n",
    "single_df.plot(x='field', y='resistance')"
   ]
  },
  {
   "cell_type": "code",
   "execution_count": 7,
   "metadata": {},
   "outputs": [
    {
     "data": {
      "text/plain": [
       "device    channel\n",
       "device 0  90         [[-10.0, -0.298291664253], [-8.94736842105, 0....\n",
       "device 1  35         [[-10.0, 0.91052076639], [-8.94736842105, 0.42...\n",
       "device 2  86         [[-10.0, -0.500572534463], [-8.94736842105, -0...\n",
       "device 3  53         [[-10.0, -0.382473739961], [-8.94736842105, 0....\n",
       "device 4  1          [[-10.0, 0.594059869485], [-8.94736842105, -0....\n",
       "Name: values, dtype: object"
      ]
     },
     "execution_count": 7,
     "metadata": {},
     "output_type": "execute_result"
    }
   ],
   "source": [
    "# Transform the original DataFrame. It must be noted that such transformation process is not efficient as it creates a copy\n",
    "df_transformed = df.groupby(id_cols).apply(lambda x: x[['field', 'resistance']].values)\n",
    "df_transformed.name = 'values'\n",
    "df_transformed.head()"
   ]
  },
  {
   "cell_type": "code",
   "execution_count": 8,
   "metadata": {
    "collapsed": true
   },
   "outputs": [],
   "source": [
    "# A simple roots finding helper function\n",
    "def root_finder(x, eps=0.01):\n",
    "    return np.where((x > -1 * eps) & (x < eps))[0]"
   ]
  },
  {
   "cell_type": "code",
   "execution_count": 9,
   "metadata": {},
   "outputs": [
    {
     "data": {
      "text/plain": [
       "device    channel\n",
       "device 0  90                       []\n",
       "device 1  35                       []\n",
       "device 2  86         [10, 11, 12, 13]\n",
       "device 3  53                  [7, 19]\n",
       "device 4  1                   [4, 15]\n",
       "Name: indices, dtype: object"
      ]
     },
     "execution_count": 9,
     "metadata": {},
     "output_type": "execute_result"
    }
   ],
   "source": [
    "# DataFrame that contains indices of the found roots\n",
    "df_root_idx = df.groupby(id_cols).apply(lambda x: root_finder(x['resistance'], 0.1))\n",
    "df_root_idx.name = 'indices'\n",
    "df_root_idx.head()"
   ]
  },
  {
   "cell_type": "code",
   "execution_count": 10,
   "metadata": {},
   "outputs": [
    {
     "data": {
      "text/html": [
       "<div>\n",
       "<style>\n",
       "    .dataframe thead tr:only-child th {\n",
       "        text-align: right;\n",
       "    }\n",
       "\n",
       "    .dataframe thead th {\n",
       "        text-align: left;\n",
       "    }\n",
       "\n",
       "    .dataframe tbody tr th {\n",
       "        vertical-align: top;\n",
       "    }\n",
       "</style>\n",
       "<table border=\"1\" class=\"dataframe\">\n",
       "  <thead>\n",
       "    <tr style=\"text-align: right;\">\n",
       "      <th></th>\n",
       "      <th></th>\n",
       "      <th>values</th>\n",
       "      <th>indices</th>\n",
       "    </tr>\n",
       "    <tr>\n",
       "      <th>device</th>\n",
       "      <th>channel</th>\n",
       "      <th></th>\n",
       "      <th></th>\n",
       "    </tr>\n",
       "  </thead>\n",
       "  <tbody>\n",
       "    <tr>\n",
       "      <th>device 0</th>\n",
       "      <th>90</th>\n",
       "      <td>[[-10.0, -0.298291664253], [-8.94736842105, 0....</td>\n",
       "      <td>[]</td>\n",
       "    </tr>\n",
       "    <tr>\n",
       "      <th>device 1</th>\n",
       "      <th>35</th>\n",
       "      <td>[[-10.0, 0.91052076639], [-8.94736842105, 0.42...</td>\n",
       "      <td>[]</td>\n",
       "    </tr>\n",
       "    <tr>\n",
       "      <th>device 2</th>\n",
       "      <th>86</th>\n",
       "      <td>[[-10.0, -0.500572534463], [-8.94736842105, -0...</td>\n",
       "      <td>[10, 11, 12, 13]</td>\n",
       "    </tr>\n",
       "    <tr>\n",
       "      <th>device 3</th>\n",
       "      <th>53</th>\n",
       "      <td>[[-10.0, -0.382473739961], [-8.94736842105, 0....</td>\n",
       "      <td>[7, 19]</td>\n",
       "    </tr>\n",
       "    <tr>\n",
       "      <th>device 4</th>\n",
       "      <th>1</th>\n",
       "      <td>[[-10.0, 0.594059869485], [-8.94736842105, -0....</td>\n",
       "      <td>[4, 15]</td>\n",
       "    </tr>\n",
       "  </tbody>\n",
       "</table>\n",
       "</div>"
      ],
      "text/plain": [
       "                                                             values  \\\n",
       "device   channel                                                      \n",
       "device 0 90       [[-10.0, -0.298291664253], [-8.94736842105, 0....   \n",
       "device 1 35       [[-10.0, 0.91052076639], [-8.94736842105, 0.42...   \n",
       "device 2 86       [[-10.0, -0.500572534463], [-8.94736842105, -0...   \n",
       "device 3 53       [[-10.0, -0.382473739961], [-8.94736842105, 0....   \n",
       "device 4 1        [[-10.0, 0.594059869485], [-8.94736842105, -0....   \n",
       "\n",
       "                           indices  \n",
       "device   channel                    \n",
       "device 0 90                     []  \n",
       "device 1 35                     []  \n",
       "device 2 86       [10, 11, 12, 13]  \n",
       "device 3 53                [7, 19]  \n",
       "device 4 1                 [4, 15]  "
      ]
     },
     "execution_count": 10,
     "metadata": {},
     "output_type": "execute_result"
    }
   ],
   "source": [
    "# Concatenate the transformed DataFrame and the root indices DataFrame\n",
    "df_new = pd.concat((df_transformed, df_root_idx), axis=1)\n",
    "df_new.head()"
   ]
  },
  {
   "cell_type": "code",
   "execution_count": 11,
   "metadata": {},
   "outputs": [],
   "source": [
    "# Find the roots\n",
    "def op(x):\n",
    "    tmp = x['indices']\n",
    "    if len(tmp) == 0:\n",
    "        return None\n",
    "    return x['values'][tmp]\n",
    "\n",
    "# Option 1: Apply the indexing function and remove empty entries later\n",
    "# This is not guaranteed to work\n",
    "df_rlt = df_new.apply(lambda x: op(x), axis=1)\n",
    "df_rlt = df_rlt[df_rlt.notnull()]\n",
    "df_rlt.head()"
   ]
  },
  {
   "cell_type": "code",
   "execution_count": 12,
   "metadata": {
    "collapsed": true
   },
   "outputs": [],
   "source": [
    "# Option 2: Remove empty entries first before applying the indexing function\n",
    "# Again, not guaranteed to work\n",
    "df_tmp = df_new[df_new['indices'].apply(len) > 0]\n",
    "df_rlt = df_tmp.apply(lambda x: op(x), axis=1)\n",
    "df_rlt"
   ]
  },
  {
   "cell_type": "code",
   "execution_count": 13,
   "metadata": {},
   "outputs": [
    {
     "data": {
      "text/html": [
       "<div>\n",
       "<style>\n",
       "    .dataframe thead tr:only-child th {\n",
       "        text-align: right;\n",
       "    }\n",
       "\n",
       "    .dataframe thead th {\n",
       "        text-align: left;\n",
       "    }\n",
       "\n",
       "    .dataframe tbody tr th {\n",
       "        vertical-align: top;\n",
       "    }\n",
       "</style>\n",
       "<table border=\"1\" class=\"dataframe\">\n",
       "  <thead>\n",
       "    <tr style=\"text-align: right;\">\n",
       "      <th></th>\n",
       "      <th>channel</th>\n",
       "      <th>device</th>\n",
       "      <th>field</th>\n",
       "      <th>resistance</th>\n",
       "    </tr>\n",
       "  </thead>\n",
       "  <tbody>\n",
       "    <tr>\n",
       "      <th>50</th>\n",
       "      <td>86.0</td>\n",
       "      <td>device 2</td>\n",
       "      <td>0.526316</td>\n",
       "      <td>-0.064338</td>\n",
       "    </tr>\n",
       "    <tr>\n",
       "      <th>51</th>\n",
       "      <td>86.0</td>\n",
       "      <td>device 2</td>\n",
       "      <td>1.578947</td>\n",
       "      <td>-0.018394</td>\n",
       "    </tr>\n",
       "    <tr>\n",
       "      <th>52</th>\n",
       "      <td>86.0</td>\n",
       "      <td>device 2</td>\n",
       "      <td>2.631579</td>\n",
       "      <td>0.027589</td>\n",
       "    </tr>\n",
       "    <tr>\n",
       "      <th>53</th>\n",
       "      <td>86.0</td>\n",
       "      <td>device 2</td>\n",
       "      <td>3.684211</td>\n",
       "      <td>0.073514</td>\n",
       "    </tr>\n",
       "    <tr>\n",
       "      <th>67</th>\n",
       "      <td>53.0</td>\n",
       "      <td>device 3</td>\n",
       "      <td>-2.631579</td>\n",
       "      <td>-0.069390</td>\n",
       "    </tr>\n",
       "    <tr>\n",
       "      <th>79</th>\n",
       "      <td>53.0</td>\n",
       "      <td>device 3</td>\n",
       "      <td>10.000000</td>\n",
       "      <td>-0.035507</td>\n",
       "    </tr>\n",
       "    <tr>\n",
       "      <th>84</th>\n",
       "      <td>1.0</td>\n",
       "      <td>device 4</td>\n",
       "      <td>-5.789474</td>\n",
       "      <td>0.037564</td>\n",
       "    </tr>\n",
       "    <tr>\n",
       "      <th>95</th>\n",
       "      <td>1.0</td>\n",
       "      <td>device 4</td>\n",
       "      <td>5.789474</td>\n",
       "      <td>-0.037564</td>\n",
       "    </tr>\n",
       "  </tbody>\n",
       "</table>\n",
       "</div>"
      ],
      "text/plain": [
       "    channel    device      field  resistance\n",
       "50     86.0  device 2   0.526316   -0.064338\n",
       "51     86.0  device 2   1.578947   -0.018394\n",
       "52     86.0  device 2   2.631579    0.027589\n",
       "53     86.0  device 2   3.684211    0.073514\n",
       "67     53.0  device 3  -2.631579   -0.069390\n",
       "79     53.0  device 3  10.000000   -0.035507\n",
       "84      1.0  device 4  -5.789474    0.037564\n",
       "95      1.0  device 4   5.789474   -0.037564"
      ]
     },
     "execution_count": 13,
     "metadata": {},
     "output_type": "execute_result"
    }
   ],
   "source": [
    "# A workaround solution is to loop through groups\n",
    "df_rlt = pd.DataFrame()\n",
    "for name, group in df.groupby(id_cols):\n",
    "    indices = root_finder(group['resistance'], 0.1)\n",
    "    for index in indices:\n",
    "        tmp = group.iloc[index, :]\n",
    "        df_rlt = df_rlt.append(tmp)\n",
    "\n",
    "df_rlt"
   ]
  },
  {
   "cell_type": "code",
   "execution_count": 14,
   "metadata": {
    "scrolled": true
   },
   "outputs": [
    {
     "data": {
      "text/html": [
       "<div>\n",
       "<style>\n",
       "    .dataframe thead tr:only-child th {\n",
       "        text-align: right;\n",
       "    }\n",
       "\n",
       "    .dataframe thead th {\n",
       "        text-align: left;\n",
       "    }\n",
       "\n",
       "    .dataframe tbody tr th {\n",
       "        vertical-align: top;\n",
       "    }\n",
       "</style>\n",
       "<table border=\"1\" class=\"dataframe\">\n",
       "  <thead>\n",
       "    <tr style=\"text-align: right;\">\n",
       "      <th></th>\n",
       "      <th>channel</th>\n",
       "      <th>device</th>\n",
       "      <th>field</th>\n",
       "      <th>resistance</th>\n",
       "    </tr>\n",
       "  </thead>\n",
       "  <tbody>\n",
       "    <tr>\n",
       "      <th>50</th>\n",
       "      <td>86</td>\n",
       "      <td>device 2</td>\n",
       "      <td>0.526316</td>\n",
       "      <td>-0.064338</td>\n",
       "    </tr>\n",
       "    <tr>\n",
       "      <th>51</th>\n",
       "      <td>86</td>\n",
       "      <td>device 2</td>\n",
       "      <td>1.578947</td>\n",
       "      <td>-0.018394</td>\n",
       "    </tr>\n",
       "    <tr>\n",
       "      <th>52</th>\n",
       "      <td>86</td>\n",
       "      <td>device 2</td>\n",
       "      <td>2.631579</td>\n",
       "      <td>0.027589</td>\n",
       "    </tr>\n",
       "    <tr>\n",
       "      <th>53</th>\n",
       "      <td>86</td>\n",
       "      <td>device 2</td>\n",
       "      <td>3.684211</td>\n",
       "      <td>0.073514</td>\n",
       "    </tr>\n",
       "    <tr>\n",
       "      <th>67</th>\n",
       "      <td>53</td>\n",
       "      <td>device 3</td>\n",
       "      <td>-2.631579</td>\n",
       "      <td>-0.069390</td>\n",
       "    </tr>\n",
       "    <tr>\n",
       "      <th>79</th>\n",
       "      <td>53</td>\n",
       "      <td>device 3</td>\n",
       "      <td>10.000000</td>\n",
       "      <td>-0.035507</td>\n",
       "    </tr>\n",
       "    <tr>\n",
       "      <th>84</th>\n",
       "      <td>1</td>\n",
       "      <td>device 4</td>\n",
       "      <td>-5.789474</td>\n",
       "      <td>0.037564</td>\n",
       "    </tr>\n",
       "    <tr>\n",
       "      <th>95</th>\n",
       "      <td>1</td>\n",
       "      <td>device 4</td>\n",
       "      <td>5.789474</td>\n",
       "      <td>-0.037564</td>\n",
       "    </tr>\n",
       "  </tbody>\n",
       "</table>\n",
       "</div>"
      ],
      "text/plain": [
       "    channel    device      field  resistance\n",
       "50       86  device 2   0.526316   -0.064338\n",
       "51       86  device 2   1.578947   -0.018394\n",
       "52       86  device 2   2.631579    0.027589\n",
       "53       86  device 2   3.684211    0.073514\n",
       "67       53  device 3  -2.631579   -0.069390\n",
       "79       53  device 3  10.000000   -0.035507\n",
       "84        1  device 4  -5.789474    0.037564\n",
       "95        1  device 4   5.789474   -0.037564"
      ]
     },
     "execution_count": 14,
     "metadata": {},
     "output_type": "execute_result"
    }
   ],
   "source": [
    "# Compare to actual results\n",
    "df.loc[root_finder(df['resistance'].values, 0.1), :]"
   ]
  },
  {
   "cell_type": "markdown",
   "metadata": {},
   "source": [
    "# The following demonstrates how to use method apply on DataFrames and Series"
   ]
  },
  {
   "cell_type": "code",
   "execution_count": 15,
   "metadata": {},
   "outputs": [
    {
     "data": {
      "text/html": [
       "<div>\n",
       "<style>\n",
       "    .dataframe thead tr:only-child th {\n",
       "        text-align: right;\n",
       "    }\n",
       "\n",
       "    .dataframe thead th {\n",
       "        text-align: left;\n",
       "    }\n",
       "\n",
       "    .dataframe tbody tr th {\n",
       "        vertical-align: top;\n",
       "    }\n",
       "</style>\n",
       "<table border=\"1\" class=\"dataframe\">\n",
       "  <thead>\n",
       "    <tr style=\"text-align: right;\">\n",
       "      <th></th>\n",
       "      <th>b</th>\n",
       "      <th>a</th>\n",
       "    </tr>\n",
       "  </thead>\n",
       "  <tbody>\n",
       "    <tr>\n",
       "      <th>0</th>\n",
       "      <td>1</td>\n",
       "      <td>2</td>\n",
       "    </tr>\n",
       "    <tr>\n",
       "      <th>1</th>\n",
       "      <td>3</td>\n",
       "      <td>4</td>\n",
       "    </tr>\n",
       "  </tbody>\n",
       "</table>\n",
       "</div>"
      ],
      "text/plain": [
       "   b  a\n",
       "0  1  2\n",
       "1  3  4"
      ]
     },
     "execution_count": 15,
     "metadata": {},
     "output_type": "execute_result"
    }
   ],
   "source": [
    "df2 = pd.DataFrame([[1, 2], [3, 4]], columns={'a', 'b'})\n",
    "df2"
   ]
  },
  {
   "cell_type": "code",
   "execution_count": 16,
   "metadata": {},
   "outputs": [
    {
     "name": "stdout",
     "output_type": "stream",
     "text": [
      "0    1\n",
      "1    3\n",
      "Name: b, dtype: int64\n",
      "0    2\n",
      "1    4\n",
      "Name: a, dtype: int64\n"
     ]
    }
   ],
   "source": [
    "# Apply function to columns\n",
    "tmp = df2.apply(lambda x: print(x))"
   ]
  },
  {
   "cell_type": "code",
   "execution_count": 17,
   "metadata": {},
   "outputs": [
    {
     "name": "stdout",
     "output_type": "stream",
     "text": [
      "b    1\n",
      "a    2\n",
      "Name: 0, dtype: int64\n",
      "b    3\n",
      "a    4\n",
      "Name: 1, dtype: int64\n"
     ]
    }
   ],
   "source": [
    "# Apply function to rows\n",
    "tmp = df2.apply(lambda x: print(x), axis=1)"
   ]
  },
  {
   "cell_type": "code",
   "execution_count": 18,
   "metadata": {},
   "outputs": [
    {
     "name": "stdout",
     "output_type": "stream",
     "text": [
      "2\n",
      "4\n"
     ]
    }
   ],
   "source": [
    "# Apply function to pd.Series\n",
    "tmp = df2['a'].apply(lambda x: print(x))"
   ]
  }
 ],
 "metadata": {
  "kernelspec": {
   "display_name": "Python 3",
   "language": "python",
   "name": "python3"
  },
  "language_info": {
   "codemirror_mode": {
    "name": "ipython",
    "version": 3
   },
   "file_extension": ".py",
   "mimetype": "text/x-python",
   "name": "python",
   "nbconvert_exporter": "python",
   "pygments_lexer": "ipython3",
   "version": "3.6.1"
  }
 },
 "nbformat": 4,
 "nbformat_minor": 2
}
